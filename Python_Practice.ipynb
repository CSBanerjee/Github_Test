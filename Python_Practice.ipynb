{
 "cells": [
  {
   "cell_type": "markdown",
   "id": "faed7361",
   "metadata": {},
   "source": [
    "Python Program to Check if Two Strings are Anagram"
   ]
  },
  {
   "cell_type": "code",
   "execution_count": 89,
   "id": "f6bba5a2",
   "metadata": {},
   "outputs": [],
   "source": [
    "s = 'anagram'\n",
    "t = 'nagaram'"
   ]
  },
  {
   "cell_type": "code",
   "execution_count": 90,
   "id": "26c4a793",
   "metadata": {},
   "outputs": [
    {
     "name": "stdout",
     "output_type": "stream",
     "text": [
      "the strings are anagram\n"
     ]
    }
   ],
   "source": [
    "def isanagram_1(s,t):\n",
    "    if sorted(s)==sorted(t):\n",
    "        print(\"the strings are anagram\")\n",
    "    else:\n",
    "        print(\"the strings are not anagram\")\n",
    "\n",
    "isanagram_1(s,t)"
   ]
  },
  {
   "cell_type": "code",
   "execution_count": 62,
   "id": "4cabd8a1",
   "metadata": {},
   "outputs": [
    {
     "data": {
      "text/plain": [
       "True"
      ]
     },
     "execution_count": 62,
     "metadata": {},
     "output_type": "execute_result"
    }
   ],
   "source": [
    "from collections import Counter\n",
    "def is_anagram_2(s,t):\n",
    "    if Counter(s)==Counter(t):\n",
    "        return True\n",
    "    else:\n",
    "        return False\n",
    "\n",
    "is_anagram_2(s,t)"
   ]
  },
  {
   "cell_type": "code",
   "execution_count": 110,
   "id": "4e3eea97",
   "metadata": {},
   "outputs": [
    {
     "data": {
      "text/plain": [
       "True"
      ]
     },
     "execution_count": 110,
     "metadata": {},
     "output_type": "execute_result"
    }
   ],
   "source": [
    "countS,countT = {},{}\n",
    "def is_anagram(s,t):\n",
    "    for i in range(len(s)):\n",
    "        countS[s[i]]=1 + countS.get(s[i],0)\n",
    "        countT[t[i]]=1 + countT.get(t[i],0)\n",
    "    if countS == countT:\n",
    "        return True\n",
    "    else:\n",
    "        return False\n",
    "\n",
    "is_anagram(s,t)"
   ]
  },
  {
   "cell_type": "markdown",
   "id": "57abb268",
   "metadata": {},
   "source": [
    "Lists"
   ]
  },
  {
   "cell_type": "markdown",
   "id": "70fa26f5",
   "metadata": {},
   "source": [
    "12\n",
    "insert 0 5\n",
    "insert 1 10\n",
    "insert 0 6\n",
    "print\n",
    "remove 6\n",
    "append 9\n",
    "append 1\n",
    "sort\n",
    "print\n",
    "pop\n",
    "reverse\n",
    "print"
   ]
  },
  {
   "cell_type": "code",
   "execution_count": 6,
   "id": "4647d8de",
   "metadata": {},
   "outputs": [
    {
     "name": "stdout",
     "output_type": "stream",
     "text": [
      "1\n",
      "insert 0 5\n"
     ]
    }
   ],
   "source": [
    "if __name__ == '__main__':\n",
    "    N = int(input())  \n",
    "lst = []\n",
    "\n",
    "for i in range(N):\n",
    "    cmd = input().split()\n",
    "    if cmd[0]==\"insert\":\n",
    "        lst.insert(int(cmd[1]),int(cmd[2]))\n",
    "    elif cmd[0]==\"print\":\n",
    "        print(lst)\n",
    "    elif cmd[0]==\"remove\":\n",
    "        lst.remove(int(cmd[1]))\n",
    "    elif cmd[0]==\"append\":\n",
    "        lst.append(int(cmd[1]))\n",
    "    elif cmd[0]==\"sort\":\n",
    "        lst.sort()\n",
    "    elif cmd[0]==\"pop\":\n",
    "        lst.pop()\n",
    "    elif cmd[0]==\"reverse\":\n",
    "        lst.reverse()\n"
   ]
  },
  {
   "cell_type": "code",
   "execution_count": null,
   "id": "893c0927",
   "metadata": {},
   "outputs": [],
   "source": []
  }
 ],
 "metadata": {
  "kernelspec": {
   "display_name": "Python 3 (ipykernel)",
   "language": "python",
   "name": "python3"
  },
  "language_info": {
   "codemirror_mode": {
    "name": "ipython",
    "version": 3
   },
   "file_extension": ".py",
   "mimetype": "text/x-python",
   "name": "python",
   "nbconvert_exporter": "python",
   "pygments_lexer": "ipython3",
   "version": "3.9.12"
  }
 },
 "nbformat": 4,
 "nbformat_minor": 5
}
